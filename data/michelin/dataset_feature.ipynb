{
 "cells": [
  {
   "cell_type": "code",
   "execution_count": 1,
   "metadata": {},
   "outputs": [],
   "source": [
    "import pandas as pd\n",
    "import matplotlib.pyplot as plt\n",
    "\n",
    "# Read the three data\n",
    "df1 = pd.read_csv('one-star-michelin-restaurants.csv')\n",
    "df2 = pd.read_csv('two-stars-michelin-restaurants.csv')\n",
    "df3 = pd.read_csv('three-stars-michelin-restaurants.csv')\n",
    "\n",
    "# Concatenate the three data\n",
    "df = pd.concat([df1, df2, df3], ignore_index=True)\n"
   ]
  },
  {
   "cell_type": "code",
   "execution_count": 2,
   "metadata": {},
   "outputs": [
    {
     "data": {
      "text/html": [
       "<div>\n",
       "<style scoped>\n",
       "    .dataframe tbody tr th:only-of-type {\n",
       "        vertical-align: middle;\n",
       "    }\n",
       "\n",
       "    .dataframe tbody tr th {\n",
       "        vertical-align: top;\n",
       "    }\n",
       "\n",
       "    .dataframe thead th {\n",
       "        text-align: right;\n",
       "    }\n",
       "</style>\n",
       "<table border=\"1\" class=\"dataframe\">\n",
       "  <thead>\n",
       "    <tr style=\"text-align: right;\">\n",
       "      <th></th>\n",
       "      <th>name</th>\n",
       "      <th>year</th>\n",
       "      <th>latitude</th>\n",
       "      <th>longitude</th>\n",
       "      <th>city</th>\n",
       "      <th>region</th>\n",
       "      <th>zipCode</th>\n",
       "      <th>cuisine</th>\n",
       "      <th>price</th>\n",
       "      <th>url</th>\n",
       "    </tr>\n",
       "  </thead>\n",
       "  <tbody>\n",
       "    <tr>\n",
       "      <th>0</th>\n",
       "      <td>Kilian Stuba</td>\n",
       "      <td>2019</td>\n",
       "      <td>47.348580</td>\n",
       "      <td>10.17114</td>\n",
       "      <td>Kleinwalsertal</td>\n",
       "      <td>Austria</td>\n",
       "      <td>87568</td>\n",
       "      <td>Creative</td>\n",
       "      <td>$$$$$</td>\n",
       "      <td>https://guide.michelin.com/at/en/vorarlberg/kl...</td>\n",
       "    </tr>\n",
       "    <tr>\n",
       "      <th>1</th>\n",
       "      <td>Pfefferschiff</td>\n",
       "      <td>2019</td>\n",
       "      <td>47.837870</td>\n",
       "      <td>13.07917</td>\n",
       "      <td>Hallwang</td>\n",
       "      <td>Austria</td>\n",
       "      <td>5300</td>\n",
       "      <td>Classic cuisine</td>\n",
       "      <td>$$$$$</td>\n",
       "      <td>https://guide.michelin.com/at/en/salzburg-regi...</td>\n",
       "    </tr>\n",
       "    <tr>\n",
       "      <th>2</th>\n",
       "      <td>Esszimmer</td>\n",
       "      <td>2019</td>\n",
       "      <td>47.806850</td>\n",
       "      <td>13.03409</td>\n",
       "      <td>Salzburg</td>\n",
       "      <td>Austria</td>\n",
       "      <td>5020</td>\n",
       "      <td>Creative</td>\n",
       "      <td>$$$$$</td>\n",
       "      <td>https://guide.michelin.com/at/en/salzburg-regi...</td>\n",
       "    </tr>\n",
       "    <tr>\n",
       "      <th>3</th>\n",
       "      <td>Carpe Diem</td>\n",
       "      <td>2019</td>\n",
       "      <td>47.800010</td>\n",
       "      <td>13.04006</td>\n",
       "      <td>Salzburg</td>\n",
       "      <td>Austria</td>\n",
       "      <td>5020</td>\n",
       "      <td>Market cuisine</td>\n",
       "      <td>$$$$$</td>\n",
       "      <td>https://guide.michelin.com/at/en/salzburg-regi...</td>\n",
       "    </tr>\n",
       "    <tr>\n",
       "      <th>4</th>\n",
       "      <td>Edvard</td>\n",
       "      <td>2019</td>\n",
       "      <td>48.216503</td>\n",
       "      <td>16.36852</td>\n",
       "      <td>Wien</td>\n",
       "      <td>Austria</td>\n",
       "      <td>1010</td>\n",
       "      <td>Modern cuisine</td>\n",
       "      <td>$$$$</td>\n",
       "      <td>https://guide.michelin.com/at/en/vienna/wien/r...</td>\n",
       "    </tr>\n",
       "  </tbody>\n",
       "</table>\n",
       "</div>"
      ],
      "text/plain": [
       "            name  year   latitude  longitude            city   region zipCode  \\\n",
       "0   Kilian Stuba  2019  47.348580   10.17114  Kleinwalsertal  Austria   87568   \n",
       "1  Pfefferschiff  2019  47.837870   13.07917        Hallwang  Austria    5300   \n",
       "2      Esszimmer  2019  47.806850   13.03409        Salzburg  Austria    5020   \n",
       "3     Carpe Diem  2019  47.800010   13.04006        Salzburg  Austria    5020   \n",
       "4         Edvard  2019  48.216503   16.36852            Wien  Austria    1010   \n",
       "\n",
       "           cuisine  price                                                url  \n",
       "0         Creative  $$$$$  https://guide.michelin.com/at/en/vorarlberg/kl...  \n",
       "1  Classic cuisine  $$$$$  https://guide.michelin.com/at/en/salzburg-regi...  \n",
       "2         Creative  $$$$$  https://guide.michelin.com/at/en/salzburg-regi...  \n",
       "3   Market cuisine  $$$$$  https://guide.michelin.com/at/en/salzburg-regi...  \n",
       "4   Modern cuisine   $$$$  https://guide.michelin.com/at/en/vienna/wien/r...  "
      ]
     },
     "execution_count": 2,
     "metadata": {},
     "output_type": "execute_result"
    }
   ],
   "source": [
    "# see the first 5 rows\n",
    "df.head()"
   ]
  },
  {
   "cell_type": "code",
   "execution_count": 3,
   "metadata": {},
   "outputs": [
    {
     "data": {
      "text/html": [
       "<div>\n",
       "<style scoped>\n",
       "    .dataframe tbody tr th:only-of-type {\n",
       "        vertical-align: middle;\n",
       "    }\n",
       "\n",
       "    .dataframe tbody tr th {\n",
       "        vertical-align: top;\n",
       "    }\n",
       "\n",
       "    .dataframe thead th {\n",
       "        text-align: right;\n",
       "    }\n",
       "</style>\n",
       "<table border=\"1\" class=\"dataframe\">\n",
       "  <thead>\n",
       "    <tr style=\"text-align: right;\">\n",
       "      <th></th>\n",
       "      <th>name</th>\n",
       "      <th>year</th>\n",
       "      <th>latitude</th>\n",
       "      <th>longitude</th>\n",
       "      <th>city</th>\n",
       "      <th>region</th>\n",
       "      <th>zipCode</th>\n",
       "      <th>cuisine</th>\n",
       "      <th>price</th>\n",
       "      <th>url</th>\n",
       "    </tr>\n",
       "  </thead>\n",
       "  <tbody>\n",
       "    <tr>\n",
       "      <th>690</th>\n",
       "      <td>Fat Duck</td>\n",
       "      <td>2019</td>\n",
       "      <td>51.508280</td>\n",
       "      <td>-0.702320</td>\n",
       "      <td>Bray</td>\n",
       "      <td>United Kingdom</td>\n",
       "      <td>SL6 2AQ</td>\n",
       "      <td>Creative</td>\n",
       "      <td>NaN</td>\n",
       "      <td>https://guide.michelin.com/gb/en/buckinghamshi...</td>\n",
       "    </tr>\n",
       "    <tr>\n",
       "      <th>691</th>\n",
       "      <td>Waterside Inn</td>\n",
       "      <td>2019</td>\n",
       "      <td>51.507730</td>\n",
       "      <td>-0.701210</td>\n",
       "      <td>Bray</td>\n",
       "      <td>United Kingdom</td>\n",
       "      <td>SL6 2AT</td>\n",
       "      <td>Classic French</td>\n",
       "      <td>NaN</td>\n",
       "      <td>https://guide.michelin.com/gb/en/buckinghamshi...</td>\n",
       "    </tr>\n",
       "    <tr>\n",
       "      <th>692</th>\n",
       "      <td>Alain Ducasse at The Dorchester</td>\n",
       "      <td>2019</td>\n",
       "      <td>51.507120</td>\n",
       "      <td>-0.152520</td>\n",
       "      <td>Mayfair</td>\n",
       "      <td>United Kingdom</td>\n",
       "      <td>W1K 1QA</td>\n",
       "      <td>French</td>\n",
       "      <td>NaN</td>\n",
       "      <td>https://guide.michelin.com/gb/en/greater-londo...</td>\n",
       "    </tr>\n",
       "    <tr>\n",
       "      <th>693</th>\n",
       "      <td>The Araki</td>\n",
       "      <td>2019</td>\n",
       "      <td>51.511826</td>\n",
       "      <td>-0.140389</td>\n",
       "      <td>Mayfair</td>\n",
       "      <td>United Kingdom</td>\n",
       "      <td>W1S 3BF</td>\n",
       "      <td>Japanese</td>\n",
       "      <td>NaN</td>\n",
       "      <td>https://guide.michelin.com/gb/en/greater-londo...</td>\n",
       "    </tr>\n",
       "    <tr>\n",
       "      <th>694</th>\n",
       "      <td>Gordon Ramsay</td>\n",
       "      <td>2019</td>\n",
       "      <td>51.485460</td>\n",
       "      <td>-0.162020</td>\n",
       "      <td>Chelsea</td>\n",
       "      <td>United Kingdom</td>\n",
       "      <td>SW3 4HP</td>\n",
       "      <td>French</td>\n",
       "      <td>NaN</td>\n",
       "      <td>https://guide.michelin.com/gb/en/greater-londo...</td>\n",
       "    </tr>\n",
       "  </tbody>\n",
       "</table>\n",
       "</div>"
      ],
      "text/plain": [
       "                                name  year   latitude  longitude     city  \\\n",
       "690                         Fat Duck  2019  51.508280  -0.702320     Bray   \n",
       "691                    Waterside Inn  2019  51.507730  -0.701210     Bray   \n",
       "692  Alain Ducasse at The Dorchester  2019  51.507120  -0.152520  Mayfair   \n",
       "693                        The Araki  2019  51.511826  -0.140389  Mayfair   \n",
       "694                    Gordon Ramsay  2019  51.485460  -0.162020  Chelsea   \n",
       "\n",
       "             region  zipCode         cuisine price  \\\n",
       "690  United Kingdom  SL6 2AQ        Creative   NaN   \n",
       "691  United Kingdom  SL6 2AT  Classic French   NaN   \n",
       "692  United Kingdom  W1K 1QA          French   NaN   \n",
       "693  United Kingdom  W1S 3BF        Japanese   NaN   \n",
       "694  United Kingdom  SW3 4HP          French   NaN   \n",
       "\n",
       "                                                   url  \n",
       "690  https://guide.michelin.com/gb/en/buckinghamshi...  \n",
       "691  https://guide.michelin.com/gb/en/buckinghamshi...  \n",
       "692  https://guide.michelin.com/gb/en/greater-londo...  \n",
       "693  https://guide.michelin.com/gb/en/greater-londo...  \n",
       "694  https://guide.michelin.com/gb/en/greater-londo...  "
      ]
     },
     "execution_count": 3,
     "metadata": {},
     "output_type": "execute_result"
    }
   ],
   "source": [
    "# see the last 5 rows\n",
    "df.tail()"
   ]
  },
  {
   "cell_type": "code",
   "execution_count": 4,
   "metadata": {},
   "outputs": [
    {
     "name": "stdout",
     "output_type": "stream",
     "text": [
      "<class 'pandas.core.frame.DataFrame'>\n",
      "RangeIndex: 695 entries, 0 to 694\n",
      "Data columns (total 10 columns):\n",
      " #   Column     Non-Null Count  Dtype  \n",
      "---  ------     --------------  -----  \n",
      " 0   name       695 non-null    object \n",
      " 1   year       695 non-null    int64  \n",
      " 2   latitude   695 non-null    float64\n",
      " 3   longitude  695 non-null    float64\n",
      " 4   city       693 non-null    object \n",
      " 5   region     695 non-null    object \n",
      " 6   zipCode    501 non-null    object \n",
      " 7   cuisine    695 non-null    object \n",
      " 8   price      519 non-null    object \n",
      " 9   url        695 non-null    object \n",
      "dtypes: float64(2), int64(1), object(7)\n",
      "memory usage: 54.4+ KB\n"
     ]
    }
   ],
   "source": [
    "df.info()"
   ]
  },
  {
   "cell_type": "code",
   "execution_count": 5,
   "metadata": {},
   "outputs": [
    {
     "data": {
      "text/plain": [
       "<matplotlib.axes._subplots.AxesSubplot at 0x7fa418ea8650>"
      ]
     },
     "execution_count": 5,
     "metadata": {},
     "output_type": "execute_result"
    },
    {
     "data": {
      "image/png": "[encoded data removed]",
      "text/plain": [
       "<Figure size 432x288 with 1 Axes>"
      ]
     },
     "metadata": {},
     "output_type": "display_data"
    }
   ],
   "source": [
    "# plot the distribution of the number of region\n",
    "df['region'].value_counts().plot(kind='bar')"
   ]
  },
  {
   "cell_type": "code",
   "execution_count": 6,
   "metadata": {},
   "outputs": [],
   "source": [
    "# read the michelin my map data\n",
    "michelin = pd.read_csv('michelin_my_maps.csv')"
   ]
  },
  {
   "cell_type": "code",
   "execution_count": 7,
   "metadata": {},
   "outputs": [
    {
     "name": "stdout",
     "output_type": "stream",
     "text": [
      "<class 'pandas.core.frame.DataFrame'>\n",
      "RangeIndex: 6753 entries, 0 to 6752\n",
      "Data columns (total 12 columns):\n",
      " #   Column                 Non-Null Count  Dtype  \n",
      "---  ------                 --------------  -----  \n",
      " 0   Name                   6753 non-null   object \n",
      " 1   Address                6753 non-null   object \n",
      " 2   Location               6753 non-null   object \n",
      " 3   Price                  6696 non-null   object \n",
      " 4   Cuisine                6753 non-null   object \n",
      " 5   Longitude              6753 non-null   float64\n",
      " 6   Latitude               6753 non-null   float64\n",
      " 7   PhoneNumber            6623 non-null   float64\n",
      " 8   Url                    6753 non-null   object \n",
      " 9   WebsiteUrl             5513 non-null   object \n",
      " 10  Award                  6753 non-null   object \n",
      " 11  FacilitiesAndServices  6706 non-null   object \n",
      "dtypes: float64(3), object(9)\n",
      "memory usage: 633.2+ KB\n"
     ]
    }
   ],
   "source": [
    "michelin.info()"
   ]
  },
  {
   "cell_type": "code",
   "execution_count": 8,
   "metadata": {},
   "outputs": [
    {
     "data": {
      "text/html": [
       "<div>\n",
       "<style scoped>\n",
       "    .dataframe tbody tr th:only-of-type {\n",
       "        vertical-align: middle;\n",
       "    }\n",
       "\n",
       "    .dataframe tbody tr th {\n",
       "        vertical-align: top;\n",
       "    }\n",
       "\n",
       "    .dataframe thead th {\n",
       "        text-align: right;\n",
       "    }\n",
       "</style>\n",
       "<table border=\"1\" class=\"dataframe\">\n",
       "  <thead>\n",
       "    <tr style=\"text-align: right;\">\n",
       "      <th></th>\n",
       "      <th>Name</th>\n",
       "      <th>Address</th>\n",
       "      <th>Location</th>\n",
       "      <th>Price</th>\n",
       "      <th>Cuisine</th>\n",
       "      <th>Longitude</th>\n",
       "      <th>Latitude</th>\n",
       "      <th>PhoneNumber</th>\n",
       "      <th>Url</th>\n",
       "      <th>WebsiteUrl</th>\n",
       "      <th>Award</th>\n",
       "      <th>FacilitiesAndServices</th>\n",
       "    </tr>\n",
       "  </thead>\n",
       "  <tbody>\n",
       "    <tr>\n",
       "      <th>0</th>\n",
       "      <td>Amador</td>\n",
       "      <td>Grinzinger Straße 86, Vienna, 1190, Austria</td>\n",
       "      <td>Vienna, Austria</td>\n",
       "      <td>€€€€</td>\n",
       "      <td>Creative, Contemporary</td>\n",
       "      <td>16.358653</td>\n",
       "      <td>48.253974</td>\n",
       "      <td>4.366091e+11</td>\n",
       "      <td>https://guide.michelin.com/en/vienna/wien/rest...</td>\n",
       "      <td>https://www.restaurant-amador.com/</td>\n",
       "      <td>3 MICHELIN Stars</td>\n",
       "      <td>Air conditioning,American Express credit card,...</td>\n",
       "    </tr>\n",
       "    <tr>\n",
       "      <th>1</th>\n",
       "      <td>King's Joy</td>\n",
       "      <td>2 Wudaoying Hutong, Beijing, China Mainland</td>\n",
       "      <td>Beijing, China Mainland</td>\n",
       "      <td>¥¥¥</td>\n",
       "      <td>Vegetarian</td>\n",
       "      <td>116.410004</td>\n",
       "      <td>39.946681</td>\n",
       "      <td>8.610840e+11</td>\n",
       "      <td>https://guide.michelin.com/en/beijing-municipa...</td>\n",
       "      <td>NaN</td>\n",
       "      <td>3 MICHELIN Stars</td>\n",
       "      <td>Air conditioning,American Express credit card,...</td>\n",
       "    </tr>\n",
       "    <tr>\n",
       "      <th>2</th>\n",
       "      <td>Xin Rong Ji (Xinyuan South Road)</td>\n",
       "      <td>1F, East Tower, Genesis Beijing, 8 Xinyuan Sou...</td>\n",
       "      <td>Beijing, China Mainland</td>\n",
       "      <td>¥¥¥¥</td>\n",
       "      <td>Taizhou</td>\n",
       "      <td>116.450148</td>\n",
       "      <td>39.946380</td>\n",
       "      <td>8.610650e+11</td>\n",
       "      <td>https://guide.michelin.com/en/beijing-municipa...</td>\n",
       "      <td>NaN</td>\n",
       "      <td>3 MICHELIN Stars</td>\n",
       "      <td>Air conditioning,Car park,China UnionPay,Count...</td>\n",
       "    </tr>\n",
       "    <tr>\n",
       "      <th>3</th>\n",
       "      <td>Taian Table</td>\n",
       "      <td>101-102, Building No. 1, Garden Office, No.161...</td>\n",
       "      <td>Shanghai, China Mainland</td>\n",
       "      <td>¥¥¥¥</td>\n",
       "      <td>Innovative</td>\n",
       "      <td>121.474049</td>\n",
       "      <td>31.221807</td>\n",
       "      <td>8.617302e+12</td>\n",
       "      <td>https://guide.michelin.com/en/shanghai-municip...</td>\n",
       "      <td>https://taian-table.cn/</td>\n",
       "      <td>3 MICHELIN Stars</td>\n",
       "      <td>Air conditioning,American Express credit card,...</td>\n",
       "    </tr>\n",
       "    <tr>\n",
       "      <th>4</th>\n",
       "      <td>Ultraviolet by Paul Pairet</td>\n",
       "      <td>'somewhere in Shanghai' - meet at Mr &amp; Mrs Bun...</td>\n",
       "      <td>Shanghai, China Mainland</td>\n",
       "      <td>¥¥¥¥</td>\n",
       "      <td>Innovative</td>\n",
       "      <td>121.485090</td>\n",
       "      <td>31.240358</td>\n",
       "      <td>NaN</td>\n",
       "      <td>https://guide.michelin.com/en/shanghai-municip...</td>\n",
       "      <td>https://uvbypp.cc/</td>\n",
       "      <td>3 MICHELIN Stars</td>\n",
       "      <td>Air conditioning,American Express credit card,...</td>\n",
       "    </tr>\n",
       "  </tbody>\n",
       "</table>\n",
       "</div>"
      ],
      "text/plain": [
       "                               Name  \\\n",
       "0                            Amador   \n",
       "1                        King's Joy   \n",
       "2  Xin Rong Ji (Xinyuan South Road)   \n",
       "3                       Taian Table   \n",
       "4        Ultraviolet by Paul Pairet   \n",
       "\n",
       "                                             Address  \\\n",
       "0        Grinzinger Straße 86, Vienna, 1190, Austria   \n",
       "1        2 Wudaoying Hutong, Beijing, China Mainland   \n",
       "2  1F, East Tower, Genesis Beijing, 8 Xinyuan Sou...   \n",
       "3  101-102, Building No. 1, Garden Office, No.161...   \n",
       "4  'somewhere in Shanghai' - meet at Mr & Mrs Bun...   \n",
       "\n",
       "                   Location Price                 Cuisine   Longitude  \\\n",
       "0           Vienna, Austria  €€€€  Creative, Contemporary   16.358653   \n",
       "1   Beijing, China Mainland   ¥¥¥              Vegetarian  116.410004   \n",
       "2   Beijing, China Mainland  ¥¥¥¥                 Taizhou  116.450148   \n",
       "3  Shanghai, China Mainland  ¥¥¥¥              Innovative  121.474049   \n",
       "4  Shanghai, China Mainland  ¥¥¥¥              Innovative  121.485090   \n",
       "\n",
       "    Latitude   PhoneNumber                                                Url  \\\n",
       "0  48.253974  4.366091e+11  https://guide.michelin.com/en/vienna/wien/rest...   \n",
       "1  39.946681  8.610840e+11  https://guide.michelin.com/en/beijing-municipa...   \n",
       "2  39.946380  8.610650e+11  https://guide.michelin.com/en/beijing-municipa...   \n",
       "3  31.221807  8.617302e+12  https://guide.michelin.com/en/shanghai-municip...   \n",
       "4  31.240358           NaN  https://guide.michelin.com/en/shanghai-municip...   \n",
       "\n",
       "                           WebsiteUrl             Award  \\\n",
       "0  https://www.restaurant-amador.com/  3 MICHELIN Stars   \n",
       "1                                 NaN  3 MICHELIN Stars   \n",
       "2                                 NaN  3 MICHELIN Stars   \n",
       "3             https://taian-table.cn/  3 MICHELIN Stars   \n",
       "4                  https://uvbypp.cc/  3 MICHELIN Stars   \n",
       "\n",
       "                               FacilitiesAndServices  \n",
       "0  Air conditioning,American Express credit card,...  \n",
       "1  Air conditioning,American Express credit card,...  \n",
       "2  Air conditioning,Car park,China UnionPay,Count...  \n",
       "3  Air conditioning,American Express credit card,...  \n",
       "4  Air conditioning,American Express credit card,...  "
      ]
     },
     "execution_count": 8,
     "metadata": {},
     "output_type": "execute_result"
    }
   ],
   "source": [
    "michelin.head()"
   ]
  },
  {
   "cell_type": "code",
   "execution_count": 10,
   "metadata": {},
   "outputs": [
    {
     "data": {
      "text/plain": [
       "Index(['name', 'year', 'latitude', 'longitude', 'city', 'region', 'zipCode',\n",
       "       'cuisine', 'price', 'url'],\n",
       "      dtype='object')"
      ]
     },
     "execution_count": 10,
     "metadata": {},
     "output_type": "execute_result"
    }
   ],
   "source": [
    "# what is in the df dataset\n",
    "df.columns"
   ]
  },
  {
   "cell_type": "code",
   "execution_count": 11,
   "metadata": {},
   "outputs": [
    {
     "data": {
      "text/plain": [
       "New York                 74\n",
       "Hong Kong                61\n",
       "San Francisco            55\n",
       "Singapore                39\n",
       "Seoul                    26\n",
       "                         ..\n",
       "Newcastle upon Tyne       1\n",
       "Bowness-on-Windermere     1\n",
       "Grasmere                  1\n",
       "Anstruther                1\n",
       "Hyde Park                 1\n",
       "Name: city, Length: 179, dtype: int64"
      ]
     },
     "execution_count": 11,
     "metadata": {},
     "output_type": "execute_result"
    }
   ],
   "source": [
    "# how diverse the city is\n",
    "df['city'].value_counts()"
   ]
  },
  {
   "cell_type": "code",
   "execution_count": 14,
   "metadata": {},
   "outputs": [
    {
     "data": {
      "text/plain": [
       "<matplotlib.axes._subplots.AxesSubplot at 0x7fa429657c10>"
      ]
     },
     "execution_count": 14,
     "metadata": {},
     "output_type": "execute_result"
    },
    {
     "data": {
      "image/png": "[encoded data removed]",
      "text/plain": [
       "<Figure size 432x288 with 1 Axes>"
      ]
     },
     "metadata": {},
     "output_type": "display_data"
    }
   ],
   "source": [
    "# draw a graph with the number of restaurants in each city just the biggest 20 cities\n",
    "df['city'].value_counts()[:20].plot(kind='bar')"
   ]
  },
  {
   "cell_type": "code",
   "execution_count": null,
   "metadata": {},
   "outputs": [],
   "source": []
  }
 ],
 "metadata": {
  "kernelspec": {
   "display_name": "LangInfo",
   "language": "python",
   "name": "python3"
  },
  "language_info": {
   "codemirror_mode": {
    "name": "ipython",
    "version": 3
   },
   "file_extension": ".py",
   "mimetype": "text/x-python",
   "name": "python",
   "nbconvert_exporter": "python",
   "pygments_lexer": "ipython3",
   "version": "3.7.6"
  },
  "orig_nbformat": 4
 },
 "nbformat": 4,
 "nbformat_minor": 2
}
